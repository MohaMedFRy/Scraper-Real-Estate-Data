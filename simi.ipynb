{
 "cells": [
  {
   "cell_type": "code",
   "execution_count": 8,
   "id": "bc07a135",
   "metadata": {},
   "outputs": [],
   "source": [
    "import os\n",
    "import pandas as pd\n",
    "from fuzzywuzzy import fuzz\n",
    "from geopy.geocoders import Nominatim\n",
    "from geopy.extra.rate_limiter import RateLimiter\n",
    "import requests \n",
    "import numpy as np\n",
    "from geopy.exc import GeocoderTimedOut\n",
    "\n",
    "from requests.structures import CaseInsensitiveDict\n",
    "from sklearn.linear_model import LinearRegression, RANSACRegressor"
   ]
  },
  {
   "cell_type": "code",
   "execution_count": 18,
   "id": "9b1ef410",
   "metadata": {},
   "outputs": [],
   "source": [
    "filename = \"myAllData.csv\"\n",
    "df = pd.read_csv(filename)\n",
    "A_cleaned = [location for location in df[\"location1\"] if not(pd.isnull(location))]\n",
    "B_cleaned = [location for location in df[\"location1\"].unique() if not(pd.isnull(location))]\n",
    "\n",
    "\n",
    "tuples_list = [max([(fuzz.token_set_ratio(i,j),j) for j in B_cleaned]) for i in A_cleaned]\n",
    "similarity_score, fuzzy_match = map(list,zip(*tuples_list))\n",
    "df2 = pd.DataFrame({ \"location1\": fuzzy_match})\n",
    "df['location1'] = df2[df2['location1'].isin(df2['location1'])]['location1'].values\n",
    "\n",
    "\n",
    "\n",
    "A_cleaned = [location for location in df[\"location2\"] if not(pd.isnull(location))]\n",
    "B_cleaned = [location for location in df[\"location2\"].unique() if not(pd.isnull(location))]\n",
    "tuples_list = [max([(fuzz.token_set_ratio(i,j),j) for j in B_cleaned]) for i in A_cleaned]\n",
    "similarity_score, fuzzy_match = map(list,zip(*tuples_list))\n",
    "df2 = pd.DataFrame({ \"location2\": fuzzy_match})\n",
    "df['location2'] = df2[df2['location2'].isin(df2['location2'])]['location2'].values\n",
    "#df.to_csv('simi.csv',encoding='UTF-8-sig')"
   ]
  },
  {
   "cell_type": "code",
   "execution_count": 21,
   "id": "8f538443",
   "metadata": {},
   "outputs": [],
   "source": [
    "Country = \"مصر\"\n",
    "for i_city in df['city'].unique():\n",
    "    df2 = df.loc[df['city'] == i_city]\n",
    "    for i_location in (df2['location1'].unique()):\n",
    "     # num =  df.at[i,'bedrooms'].split():\n",
    "\n",
    "        try:\n",
    "            url = f\"https://api.geoapify.com/v1/geocode/search?&city={i_location} {i_city}&country={Country}&lang=ar&limit=1&filter=countrycode:eg&format=json&apiKey=9603e9617cf64f41b62092fda88ce902\"\n",
    "            headers = CaseInsensitiveDict()\n",
    "            headers[\"Accept\"] = \"application/json\"\n",
    "\n",
    "            resp = requests.get(url, headers=headers)\n",
    "            lon = resp.json()['results'][0]['lon']\n",
    "            lat = resp.json()['results'][0]['lat']\n",
    "           \n",
    "        except:\n",
    "\n",
    "            lon = np.nan\n",
    "            lat = np.nan\n",
    "        df.loc[df['location1'] == i_location, 'lon'] = lon\n",
    "        df.loc[df['location1'] == i_location, 'lat'] = lat\n",
    "\n",
    "        # # print(i_location, resp.json()['results'][0]\n",
    "        # ['lon'], resp.json()['results'][0]['lat'])\n",
    "\n",
    "#df.to_csv('Cairo_Data.csv',encoding='UTF-8-sig')"
   ]
  },
  {
   "cell_type": "code",
   "execution_count": 24,
   "id": "2d1a1c52",
   "metadata": {},
   "outputs": [],
   "source": [
    "df['outlier'] = np.nan\n",
    "c = 0\n",
    "ex = 0\n",
    "for i_city in df['city'].unique():\n",
    "    for i_rent_sale in df['rent_sale'].unique():\n",
    "        for i_location in df['location1'].unique():\n",
    "            for i_unit in df['unit'].unique():\n",
    "                try:\n",
    "                    filtered = df.loc[(df['unit'] == i_unit) & (df['location1'] == i_location) &\n",
    "                                      (df['rent_sale'] == i_rent_sale) & (df['city'] == i_city)]\n",
    "                    # print(len(filtered))\n",
    "                    if (len(filtered) > 1):\n",
    "                        x = (filtered['size'].values.reshape(-1, 1))\n",
    "                        y = (filtered['price'].values.reshape(-1, 1))\n",
    "                        t = 1.96 * filtered['price'].std()\n",
    "                        ransac = RANSACRegressor(base_estimator=LinearRegression(),\n",
    "                                                 min_samples=2, max_trials=3,\n",
    "                                                 residual_threshold=t, random_state=42)\n",
    "                        ransac.fit(x, y)\n",
    "                        outlier_mask = np.logical_not(ransac.inlier_mask_)\n",
    "                        df.loc[filtered.index, ['outlier']] = outlier_mask\n",
    "                        c += 1\n",
    "                except:\n",
    "                    ex += 1\n",
    "                    pass\n",
    "\n",
    "\n",
    "\n",
    "df['outlier'].fillna(False, inplace=True)"
   ]
  },
  {
   "cell_type": "code",
   "execution_count": null,
   "id": "216d7050",
   "metadata": {},
   "outputs": [],
   "source": []
  },
  {
   "cell_type": "code",
   "execution_count": null,
   "id": "79042e21",
   "metadata": {},
   "outputs": [],
   "source": []
  },
  {
   "cell_type": "code",
   "execution_count": null,
   "id": "5a1d4879",
   "metadata": {},
   "outputs": [],
   "source": []
  },
  {
   "cell_type": "code",
   "execution_count": null,
   "id": "0ef64b45",
   "metadata": {},
   "outputs": [],
   "source": []
  },
  {
   "cell_type": "code",
   "execution_count": null,
   "id": "784e5212",
   "metadata": {},
   "outputs": [],
   "source": []
  },
  {
   "cell_type": "code",
   "execution_count": null,
   "id": "3b68187e",
   "metadata": {},
   "outputs": [],
   "source": []
  }
 ],
 "metadata": {
  "kernelspec": {
   "display_name": "Python 3",
   "language": "python",
   "name": "python3"
  },
  "language_info": {
   "codemirror_mode": {
    "name": "ipython",
    "version": 3
   },
   "file_extension": ".py",
   "mimetype": "text/x-python",
   "name": "python",
   "nbconvert_exporter": "python",
   "pygments_lexer": "ipython3",
   "version": "3.8.8"
  }
 },
 "nbformat": 4,
 "nbformat_minor": 5
}
